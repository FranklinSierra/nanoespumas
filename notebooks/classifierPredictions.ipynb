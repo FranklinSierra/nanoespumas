{
 "cells": [
  {
   "cell_type": "markdown",
   "id": "8ce521e5",
   "metadata": {},
   "source": [
    "# <font color='red'>**Libraries**</font>"
   ]
  },
  {
   "cell_type": "code",
   "execution_count": null,
   "id": "9b30371e",
   "metadata": {},
   "outputs": [],
   "source": [
    "import os\n",
    "os.environ[\"CUDA_DEVICE_ORDER\"] = \"PCI_BUS_ID\";\n",
    "os.environ[\"CUDA_VISIBLE_DEVICES\"] = \"0\"\n",
    "os.environ['TF_ENABLE_ONEDNN_OPTS'] = '0'"
   ]
  },
  {
   "cell_type": "code",
   "execution_count": null,
   "id": "b2247c29",
   "metadata": {},
   "outputs": [],
   "source": [
    "import tensorflow as tf\n",
    "#import tensorflow_datasets as tfds\n",
    "from tensorflow_examples.models.pix2pix import pix2pix\n",
    "from os import listdir\n",
    "from tensorflow.keras.preprocessing.image import load_img\n",
    "from tensorflow.keras.preprocessing.image import img_to_array\n",
    "from numpy import vstack\n",
    "from numpy import asarray\n",
    "from numpy import savez_compressed\n",
    "import numpy as np\n",
    "from PIL import Image\n",
    "from tqdm import tqdm\n",
    "import os\n",
    "import csv\n",
    "import time\n",
    "import matplotlib.pyplot as plt\n",
    "from IPython.display import clear_output\n",
    "from tensorflow import keras\n",
    "import pandas as pd\n",
    "from tensorflow.keras.preprocessing.image import ImageDataGenerator\n",
    "from sklearn.metrics import classification_report, confusion_matrix, multilabel_confusion_matrix, ConfusionMatrixDisplay\n",
    "import imageio\n",
    "from tensorflow import keras\n",
    "from skimage.transform import resize\n",
    "\n",
    "AUTOTUNE = tf.data.AUTOTUNE"
   ]
  },
  {
   "cell_type": "markdown",
   "id": "6b418bf4",
   "metadata": {},
   "source": [
    "# <font color='red'>**Useful methods**</font>"
   ]
  },
  {
   "cell_type": "code",
   "execution_count": null,
   "id": "3fb55b87",
   "metadata": {},
   "outputs": [],
   "source": [
    "def load_model(name):\n",
    "    print(\"working on model: \", name)\n",
    "    \n",
    "    path = '../models/clasification/' + name + '.h5'\n",
    "    \n",
    "    model = keras.models.load_model(path, compile=False)\n",
    "    \n",
    "    return model"
   ]
  },
  {
   "cell_type": "code",
   "execution_count": null,
   "id": "fd83170f",
   "metadata": {},
   "outputs": [],
   "source": [
    "def make_generator(current_df, HEIGHT, WIDTH, batch_size):\n",
    "    \n",
    "    test_datagen = ImageDataGenerator()\n",
    "\n",
    "    test_generator=test_datagen.flow_from_dataframe(dataframe=current_df,\n",
    "                                                    x_col=\"path\",\n",
    "                                                    y_col=\"label\",\n",
    "                                                    batch_size=batch_size,\n",
    "                                                    seed=42,\n",
    "                                                    shuffle=False,\n",
    "                                                    class_mode=\"categorical\",\n",
    "                                                    target_size=(HEIGHT, WIDTH))\n",
    "    \n",
    "    return test_generator"
   ]
  },
  {
   "cell_type": "markdown",
   "id": "8003766b",
   "metadata": {},
   "source": [
    "# <font color='red'>**Reading and testing**</font>"
   ]
  },
  {
   "cell_type": "code",
   "execution_count": null,
   "id": "13c76c5c",
   "metadata": {},
   "outputs": [],
   "source": [
    "labels={0: 'CuNi1',\n",
    "        1: 'CuNi2',\n",
    "        2: 'CuNi3'}\n",
    "\n",
    "HEIGHT, WIDTH = 256, 256\n",
    "batch_size = 8\n",
    "test_df = pd.read_csv('../data/rgb/test_dry.csv')\n",
    "test_df.columns = ['path', 'label']\n",
    "test_df.groupby(['label']).count()"
   ]
  },
  {
   "cell_type": "code",
   "execution_count": null,
   "id": "ff196a7d",
   "metadata": {},
   "outputs": [],
   "source": [
    "model = load_model('EfficientNetV2B0dry')"
   ]
  },
  {
   "cell_type": "code",
   "execution_count": null,
   "id": "b0d2694a",
   "metadata": {},
   "outputs": [],
   "source": [
    "#Confution Matrix and Classification Report\n",
    "test_gen = make_generator(test_df, HEIGHT, WIDTH, batch_size)\n",
    "test_gen.reset()\n",
    "logits = model.predict(test_gen, test_df.shape[0] // batch_size+1)\n",
    "y_pred_class = np.argmax(logits, axis=1)\n",
    "\n",
    "target_names = ['CuNi1', 'CuNi2', 'CuNi3']      \n",
    "\n",
    "print('Confusion Matrix for experiment: ')#, experiment)\n",
    "print(confusion_matrix(test_gen.classes, y_pred_class))\n",
    "print('Classification Report')\n",
    "print(classification_report(test_gen.classes, y_pred_class, target_names=target_names))"
   ]
  },
  {
   "cell_type": "code",
   "execution_count": null,
   "id": "6ff0c95b",
   "metadata": {},
   "outputs": [],
   "source": [
    "from sklearn.metrics import confusion_matrix, ConfusionMatrixDisplay\n",
    "target_names = ['CuNi1', 'CuNi2', 'CuNi3']\n",
    "cm = confusion_matrix(test_gen.classes, y_pred_class, normalize='true')\n",
    "disp = ConfusionMatrixDisplay(confusion_matrix=cm, display_labels=target_names)\n",
    "disp = disp.plot(include_values=True, cmap=plt.cm.Blues, xticks_rotation='horizontal', values_format='.2f')\n",
    "plt.show()"
   ]
  },
  {
   "cell_type": "code",
   "execution_count": null,
   "id": "f24236a7",
   "metadata": {},
   "outputs": [],
   "source": [
    "AUC = tf.keras.metrics.AUC()\n",
    "AUC.update_state(test_gen.classes, y_pred_class)\n",
    "AUC.result()"
   ]
  }
 ],
 "metadata": {
  "kernelspec": {
   "display_name": "Python 3 (ipykernel)",
   "language": "python",
   "name": "python3"
  },
  "language_info": {
   "codemirror_mode": {
    "name": "ipython",
    "version": 3
   },
   "file_extension": ".py",
   "mimetype": "text/x-python",
   "name": "python",
   "nbconvert_exporter": "python",
   "pygments_lexer": "ipython3",
   "version": "3.8.10"
  }
 },
 "nbformat": 4,
 "nbformat_minor": 5
}
