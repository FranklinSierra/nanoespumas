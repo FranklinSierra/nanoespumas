{
 "cells": [
  {
   "cell_type": "code",
   "execution_count": null,
   "metadata": {},
   "outputs": [],
   "source": [
    "import os\n",
    "os.environ[\"CUDA_DEVICE_ORDER\"] = \"PCI_BUS_ID\";\n",
    "os.environ[\"CUDA_VISIBLE_DEVICES\"] = \"0\"\n",
    "os.environ['TF_ENABLE_ONEDNN_OPTS'] = '0'"
   ]
  },
  {
   "cell_type": "code",
   "execution_count": null,
   "metadata": {},
   "outputs": [],
   "source": [
    "import numpy as np\n",
    "import os\n",
    "import pandas as pd\n",
    "from sklearn.decomposition import PCA\n",
    "from sklearn.manifold import TSNE\n",
    "%matplotlib inline\n",
    "import matplotlib.pyplot as plt\n",
    "import seaborn as sns\n",
    "import plotly.express as px\n",
    "import os\n",
    "import plotly.graph_objects as go"
   ]
  },
  {
   "cell_type": "markdown",
   "metadata": {},
   "source": [
    "## Loading data"
   ]
  },
  {
   "cell_type": "code",
   "execution_count": null,
   "metadata": {},
   "outputs": [],
   "source": [
    "def load_data(split, group):\n",
    "        \n",
    "    path = \"../embeddings/gray/\" + split + \"_\" + group + \"/\"\n",
    "    \n",
    "    print(\"reading from: \", path)\n",
    "    CuNi1_dat = np.load(path+\"CuNi1/Embeddings.npy\")\n",
    "    CuNi1_lab = np.load(path+\"CuNi1/Labels.npy\")\n",
    "\n",
    "    CuNi2_dat = np.load(path+\"CuNi2/Embeddings.npy\")\n",
    "    CuNi2_lab = np.load(path+\"CuNi2/Labels.npy\")\n",
    "\n",
    "    CuNi3_dat = np.load(path+\"CuNi3/Embeddings.npy\")\n",
    "    CuNi3_lab = np.load(path+\"CuNi3/Labels.npy\")\n",
    "\n",
    "    print(\"CuNi1 dim: {}, amount of labels: {}\".format(CuNi1_dat.shape, CuNi1_lab.shape))\n",
    "    print(\"CuNi2 dim: {}, amount of labels: {}\".format(CuNi2_dat.shape, CuNi2_lab.shape))\n",
    "    print(\"CuNi3 dim: {}, amount of labels: {}\".format(CuNi3_dat.shape, CuNi3_lab.shape))\n",
    "    features = np.concatenate((CuNi1_dat, CuNi2_dat, CuNi3_dat), axis=0)\n",
    "    labels = np.concatenate((CuNi1_lab, CuNi2_lab, CuNi3_lab), axis=0)\n",
    "   \n",
    "    df = pd.DataFrame({'features': list(features), 'label': labels}, columns=['features', 'label'])\n",
    "    \n",
    "    return df    "
   ]
  },
  {
   "cell_type": "code",
   "execution_count": null,
   "metadata": {},
   "outputs": [],
   "source": [
    "group = 'dry'\n",
    "\n",
    "split = \"train\"\n",
    "train_df = load_data(split, group)\n",
    "print(\"train_df info:\")\n",
    "print(train_df.groupby(['label']).count())\n",
    "\n",
    "print(\"=====================\")\n",
    "split = \"test\"\n",
    "test_df = load_data(split, group)\n",
    "print(\"test_df info:\")\n",
    "print(test_df.groupby(['label']).count())"
   ]
  },
  {
   "cell_type": "code",
   "execution_count": null,
   "metadata": {},
   "outputs": [],
   "source": [
    "def get_features(df):\n",
    "    features = []\n",
    "    labels = []\n",
    "    for i in range(len(df)):\n",
    "        tmp_features = df.loc[i]['features']\n",
    "        tmp_labels = df.loc[i]['label']\n",
    "        features.append(tmp_features)\n",
    "        labels.append(tmp_labels)\n",
    "\n",
    "    features = np.array(features)\n",
    "    labels = np.array(labels)\n",
    "    \n",
    "    return features, labels"
   ]
  },
  {
   "cell_type": "markdown",
   "metadata": {},
   "source": [
    "# <font color='red'>**Visualization methods**</font>\n",
    "## PCA"
   ]
  },
  {
   "cell_type": "code",
   "execution_count": null,
   "metadata": {},
   "outputs": [],
   "source": [
    "train_features, train_labels = get_features(train_df)\n",
    "min_features = str(round(train_features.min(), 2))\n",
    "max_features = str(round(train_features.max(), 2))\n",
    "print(\"train features shape: {}, min and max values: {}, {}\".format(train_features.shape, min_features, max_features))\n",
    "\n",
    "test_features, test_labels = get_features(test_df)\n",
    "min_features = str(round(test_features.min(), 2))\n",
    "max_features = str(round(test_features.max(), 2))\n",
    "print(\"test features shape: {}, min and max values: {}, {}\".format(test_features.shape, min_features, max_features))"
   ]
  },
  {
   "cell_type": "markdown",
   "metadata": {},
   "source": [
    "**Getting components for train split**"
   ]
  },
  {
   "cell_type": "code",
   "execution_count": null,
   "metadata": {},
   "outputs": [],
   "source": [
    "pca = PCA(n_components=2, random_state=69)\n",
    "pca_result = pca.fit_transform(train_features)"
   ]
  },
  {
   "cell_type": "code",
   "execution_count": null,
   "metadata": {},
   "outputs": [],
   "source": [
    "train_df['pca-one'] = pca_result[:,0]\n",
    "train_df['pca-two'] = pca_result[:,1] \n",
    "#train_df['pca-three'] = pca_result[:,2]\n",
    "\n",
    "print('Explained variation per principal component: {}'.format(pca.explained_variance_ratio_))"
   ]
  },
  {
   "cell_type": "markdown",
   "metadata": {},
   "source": [
    "**Transform the test split**"
   ]
  },
  {
   "cell_type": "code",
   "execution_count": null,
   "metadata": {},
   "outputs": [],
   "source": [
    "pca_result = pca.transform(test_features)"
   ]
  },
  {
   "cell_type": "code",
   "execution_count": null,
   "metadata": {},
   "outputs": [],
   "source": [
    "test_df['pca-one'] = pca_result[:,0]\n",
    "test_df['pca-two'] = pca_result[:,1] \n",
    "#test_df['pca-three'] = pca_result[:,2]\n",
    "\n",
    "print('Explained variation per principal component: {}'.format(pca.explained_variance_ratio_))"
   ]
  },
  {
   "cell_type": "markdown",
   "metadata": {},
   "source": [
    "**Plotting**"
   ]
  },
  {
   "cell_type": "code",
   "execution_count": null,
   "metadata": {},
   "outputs": [],
   "source": [
    "color_discrete_map = {'CuNi1': 'rgb(255,0,0)', 'CuNi2': 'rgb(0,255,0)', 'CuNi3': 'rgb(0,0,255)'}\n",
    "#===for my data\n",
    "fig = px.scatter(test_df, x=\"pca-one\", y=\"pca-two\", color = 'label', color_discrete_map=color_discrete_map, hover_name=\"label\", hover_data=[\"label\"], opacity=0.6)\n",
    "\n",
    "fig.update_traces(marker=dict(size=12,\n",
    "                              line=dict(width=2,\n",
    "                                        color='DarkSlateGrey')),\n",
    "                  selector=dict(mode='markers'))\n",
    "\n",
    "fig.show()"
   ]
  },
  {
   "cell_type": "markdown",
   "metadata": {},
   "source": [
    "**Test and train splits in the same graph**"
   ]
  },
  {
   "cell_type": "code",
   "execution_count": null,
   "metadata": {},
   "outputs": [],
   "source": [
    "color_discrete_map_train = {'CuNi1': 'rgb(255,0,0)', 'CuNi2': 'rgb(0,255,0)', 'CuNi3': 'rgb(0,0,255)'}\n",
    "color_discrete_map_test = {'CuNi1': 'rgb(255,11,215)', 'CuNi2': 'rgb(153,255,51)', 'CuNi3': 'rgb(51,153,255)'}\n",
    "\n",
    "cols_train = train_df['label'].map(color_discrete_map_train)\n",
    "cols_test = test_df['label'].map(color_discrete_map_test)\n",
    "\n",
    "fig = go.Figure()\n",
    "\n",
    "fig.add_trace(go.Scatter(x = train_df[\"pca-one\"],\n",
    "                         y = train_df[\"pca-two\"],\n",
    "                         mode = 'markers',\n",
    "                         marker=dict(size=5, color = cols_train)\n",
    "                         ))\n",
    "\n",
    "fig.add_trace(go.Scatter(x = test_df[\"pca-one\"],\n",
    "                         y = test_df[\"pca-two\"],\n",
    "                         mode = 'markers',\n",
    "                         marker=dict(size=5, color = cols_test)\n",
    "                        ))\n",
    "\n",
    "fig.show()"
   ]
  },
  {
   "cell_type": "markdown",
   "metadata": {},
   "source": [
    "## UMAP"
   ]
  },
  {
   "cell_type": "code",
   "execution_count": null,
   "metadata": {},
   "outputs": [],
   "source": [
    "import umap.umap_ as umap"
   ]
  },
  {
   "cell_type": "code",
   "execution_count": null,
   "metadata": {},
   "outputs": [],
   "source": [
    "reducer = umap.UMAP()"
   ]
  },
  {
   "cell_type": "markdown",
   "metadata": {},
   "source": [
    "**Getting representation for train split**"
   ]
  },
  {
   "cell_type": "code",
   "execution_count": null,
   "metadata": {},
   "outputs": [],
   "source": [
    "embedding = reducer.fit_transform(train_features)\n",
    "embedding.shape"
   ]
  },
  {
   "cell_type": "code",
   "execution_count": null,
   "metadata": {},
   "outputs": [],
   "source": [
    "train_df['x'] = embedding[:,0]\n",
    "train_df['y'] = embedding[:,1]"
   ]
  },
  {
   "cell_type": "markdown",
   "metadata": {},
   "source": [
    "**Getting representation for test split**"
   ]
  },
  {
   "cell_type": "code",
   "execution_count": null,
   "metadata": {},
   "outputs": [],
   "source": [
    "embedding = reducer.transform(test_features)\n",
    "embedding.shape"
   ]
  },
  {
   "cell_type": "code",
   "execution_count": null,
   "metadata": {},
   "outputs": [],
   "source": [
    "test_df['x'] = embedding[:,0]\n",
    "test_df['y'] = embedding[:,1]"
   ]
  },
  {
   "cell_type": "code",
   "execution_count": null,
   "metadata": {},
   "outputs": [],
   "source": [
    "color_discrete_map = {'CuNi1': 'rgb(255,0,0)', 'CuNi2': 'rgb(0,255,0)', 'CuNi3': 'rgb(0,0,255)'}\n",
    "fig = px.scatter(test_df, x=\"x\", y=\"y\", color = 'label', color_discrete_map=color_discrete_map, hover_name=\"label\", hover_data=[\"label\"], opacity=0.5)\n",
    "\n",
    "fig.update_traces(marker=dict(size=12,\n",
    "                              line=dict(width=2,\n",
    "                                        color='DarkSlateGrey')),\n",
    "                  selector=dict(mode='markers'))\n",
    "\n",
    "fig.show()"
   ]
  },
  {
   "cell_type": "markdown",
   "metadata": {},
   "source": [
    "**Setting train and test splits in the same plot**"
   ]
  },
  {
   "cell_type": "code",
   "execution_count": null,
   "metadata": {},
   "outputs": [],
   "source": [
    "color_discrete_map_train = {'CuNi1': 'rgb(255,0,0)', 'CuNi2': 'rgb(0,255,0)', 'CuNi3': 'rgb(0,0,255)'}\n",
    "color_discrete_map_test = {'CuNi1': 'rgb(255,11,215)', 'CuNi2': 'rgb(153,255,51)', 'CuNi3': 'rgb(51,153,255)'}\n",
    "\n",
    "cols_train = train_df['label'].map(color_discrete_map_train)\n",
    "cols_test = test_df['label'].map(color_discrete_map_test)\n",
    "\n",
    "fig = go.Figure()\n",
    "\n",
    "fig.add_trace(go.Scatter(x = train_df[\"x\"],\n",
    "                         y = train_df[\"y\"],\n",
    "                         mode = 'markers',\n",
    "                         marker=dict(size=4, color = cols_train)\n",
    "                         ))\n",
    "\n",
    "fig.add_trace(go.Scatter(x = test_df[\"x\"],\n",
    "                         y = test_df[\"y\"],\n",
    "                         mode = 'markers',\n",
    "                         marker=dict(size=4, color = cols_test)\n",
    "                        ))\n",
    "\n",
    "fig.show()"
   ]
  },
  {
   "cell_type": "markdown",
   "metadata": {},
   "source": [
    "## T-sne 2D"
   ]
  },
  {
   "cell_type": "code",
   "execution_count": null,
   "metadata": {},
   "outputs": [],
   "source": [
    "from sklearn.manifold import TSNE"
   ]
  },
  {
   "cell_type": "markdown",
   "metadata": {},
   "source": [
    "Representation for **train** split"
   ]
  },
  {
   "cell_type": "code",
   "execution_count": null,
   "metadata": {},
   "outputs": [],
   "source": [
    "tsne = TSNE(n_components = 2, init = 'pca')\n",
    "P1_tsne = tsne.fit_transform(train_features)\n",
    "P1_tsne.shape"
   ]
  },
  {
   "cell_type": "code",
   "execution_count": null,
   "metadata": {},
   "outputs": [],
   "source": [
    "l1 = P1_tsne[:,0]\n",
    "l2 = P1_tsne[:,1]"
   ]
  },
  {
   "cell_type": "code",
   "execution_count": null,
   "metadata": {},
   "outputs": [],
   "source": [
    "train_df['x'] = l1\n",
    "train_df['y'] = l2"
   ]
  },
  {
   "cell_type": "markdown",
   "metadata": {},
   "source": [
    "Representation for **test** split"
   ]
  },
  {
   "cell_type": "code",
   "execution_count": null,
   "metadata": {},
   "outputs": [],
   "source": [
    "P1_tsne = tsne.fit_transform(test_features)\n",
    "P1_tsne.shape"
   ]
  },
  {
   "cell_type": "code",
   "execution_count": null,
   "metadata": {},
   "outputs": [],
   "source": [
    "l1 = P1_tsne[:,0]\n",
    "l2 = P1_tsne[:,1]"
   ]
  },
  {
   "cell_type": "code",
   "execution_count": null,
   "metadata": {},
   "outputs": [],
   "source": [
    "test_df['x'] = l1\n",
    "test_df['y'] = l2"
   ]
  },
  {
   "cell_type": "markdown",
   "metadata": {},
   "source": [
    "**Plotting**"
   ]
  },
  {
   "cell_type": "code",
   "execution_count": null,
   "metadata": {
    "scrolled": true
   },
   "outputs": [],
   "source": [
    "color_discrete_map = {'CuNi1': 'rgb(255,0,0)', 'CuNi2': 'rgb(0,255,0)', 'CuNi3': 'rgb(0,0,255)'}\n",
    "#=== for my data \n",
    "fig = px.scatter(test_df, x=\"x\", y=\"y\", color = 'label', color_discrete_map=color_discrete_map, hover_name=\"label\", hover_data=[\"label\"], opacity=0.5)\n",
    "\n",
    "fig.update_traces(marker=dict(size=12,\n",
    "                              line=dict(width=2,\n",
    "                                        color='DarkSlateGrey')),\n",
    "                  selector=dict(mode='markers'))\n",
    "\n",
    "fig.show()"
   ]
  },
  {
   "cell_type": "markdown",
   "metadata": {},
   "source": [
    "Setting plot for **both splits**"
   ]
  },
  {
   "cell_type": "code",
   "execution_count": null,
   "metadata": {},
   "outputs": [],
   "source": [
    "color_discrete_map_train = {'CuNi1': 'rgb(255,0,0)', 'CuNi2': 'rgb(0,255,0)', 'CuNi3': 'rgb(0,0,255)'}\n",
    "color_discrete_map_test = {'CuNi1': 'rgb(255,11,215)', 'CuNi2': 'rgb(153,255,51)', 'CuNi3': 'rgb(51,153,255)'}\n",
    "\n",
    "cols_train = train_df['label'].map(color_discrete_map_train)\n",
    "cols_test = test_df['label'].map(color_discrete_map_test)\n",
    "\n",
    "fig = go.Figure()\n",
    "\n",
    "fig.add_trace(go.Scatter(x = train_df[\"x\"],\n",
    "                         y = train_df[\"y\"],\n",
    "                         mode = 'markers',\n",
    "                         marker=dict(size=5, color = cols_train)\n",
    "                         ))\n",
    "\n",
    "fig.add_trace(go.Scatter(x = test_df[\"x\"],\n",
    "                         y = test_df[\"y\"],\n",
    "                         mode = 'markers',\n",
    "                         marker=dict(size=5, color = cols_test)\n",
    "                        ))\n",
    "\n",
    "fig.show()"
   ]
  },
  {
   "cell_type": "code",
   "execution_count": null,
   "metadata": {},
   "outputs": [],
   "source": []
  }
 ],
 "metadata": {
  "kernelspec": {
   "display_name": "Python 3",
   "language": "python",
   "name": "python3"
  },
  "language_info": {
   "codemirror_mode": {
    "name": "ipython",
    "version": 3
   },
   "file_extension": ".py",
   "mimetype": "text/x-python",
   "name": "python",
   "nbconvert_exporter": "python",
   "pygments_lexer": "ipython3",
   "version": "3.8.10"
  }
 },
 "nbformat": 4,
 "nbformat_minor": 2
}
