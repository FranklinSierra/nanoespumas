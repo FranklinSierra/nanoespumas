{
 "cells": [
  {
   "cell_type": "code",
   "execution_count": 1,
   "metadata": {},
   "outputs": [],
   "source": [
    "import os\n",
    "import pandas as pd\n",
    "import matplotlib.pyplot as plt\n",
    "import numpy as np\n",
    "import math\n",
    "import tqdm\n",
    "from sklearn.model_selection import train_test_split"
   ]
  },
  {
   "cell_type": "code",
   "execution_count": null,
   "metadata": {},
   "outputs": [],
   "source": [
    "root_path = \"../data/rgb/classification/original/CuNi3/\"\n",
    "clase = \"Humeda\"\n",
    "\n",
    "csvfile = open(root_path+clase+'.csv', '+w')\n",
    "\n",
    "imgs = os.listdir(root_path + clase + \"/\")\n",
    "for img in imgs:\n",
    "    img_path = root_path + clase + \"/\"+ \"/\" + img\n",
    "    col_name = ','+clase+'\\n'\n",
    "    csvfile.write(img_path+col_name)\n",
    "csvfile.close()"
   ]
  },
  {
   "cell_type": "code",
   "execution_count": null,
   "metadata": {},
   "outputs": [],
   "source": [
    "df = pd.read_csv(\"/home/Data/franklin/Doctorado/nanoespumas/data/rgb/classification/original/CuNi3/Humeda.csv\")\n",
    "df.columns = ['path', 'label']\n",
    "df.groupby('label').count()"
   ]
  },
  {
   "cell_type": "markdown",
   "metadata": {},
   "source": [
    "**For original regarding each class**"
   ]
  },
  {
   "cell_type": "code",
   "execution_count": null,
   "metadata": {},
   "outputs": [],
   "source": [
    "root_path = \"../data/rgb/classification/original/\"\n",
    "clases = sorted(os.listdir(root_path))\n",
    "group = \"Seca\"\n",
    "\n",
    "csvfile = open(root_path+group+'.csv', '+w')\n",
    "for clase in clases:\n",
    "    print(clase)\n",
    "    if os.path.isdir(root_path + clase):\n",
    "        imgs = sorted(os.listdir(root_path + clase + \"/\" + group))\n",
    "        for img in imgs:\n",
    "            img_path = root_path + clase + \"/\" + group + \"/\" + img\n",
    "            col_name = ','+clase+'\\n'\n",
    "            #print(img_path+col_name)\n",
    "            csvfile.write(img_path+col_name)\n",
    "    else: \n",
    "        None\n",
    "\n",
    "csvfile.close()"
   ]
  },
  {
   "cell_type": "code",
   "execution_count": null,
   "metadata": {},
   "outputs": [],
   "source": [
    "df = pd.read_csv(\"/home/Data/franklin/Doctorado/nanoespumas/data/rgb/classification/original/Seca.csv\", header=None)\n",
    "df.columns = ['path', 'label']\n",
    "df.groupby('label').count() \n"
   ]
  },
  {
   "cell_type": "markdown",
   "metadata": {},
   "source": [
    "**For synthetic representations**"
   ]
  },
  {
   "cell_type": "code",
   "execution_count": 5,
   "metadata": {},
   "outputs": [],
   "source": [
    "gen_path = \"../imgs_results/rgb/\"\n",
    "split = \"train_wet\"\n",
    "\n",
    "clases = os.listdir(gen_path + split)\n",
    "\n",
    "csvfile = open(gen_path+split+'.csv', '+w')\n",
    "for clase in clases:\n",
    "    imgs = os.listdir(gen_path + split + \"/\" + clase)\n",
    "    for img in imgs:\n",
    "        img_path = gen_path + split + \"/\" + clase + \"/\" + img\n",
    "        col_name = ','+clase+'\\n'\n",
    "        csvfile.write(img_path+col_name)\n",
    "csvfile.close()"
   ]
  },
  {
   "cell_type": "code",
   "execution_count": null,
   "metadata": {},
   "outputs": [],
   "source": []
  }
 ],
 "metadata": {
  "kernelspec": {
   "display_name": "Python 3",
   "language": "python",
   "name": "python3"
  },
  "language_info": {
   "codemirror_mode": {
    "name": "ipython",
    "version": 3
   },
   "file_extension": ".py",
   "mimetype": "text/x-python",
   "name": "python",
   "nbconvert_exporter": "python",
   "pygments_lexer": "ipython3",
   "version": "3.8.10"
  },
  "orig_nbformat": 4
 },
 "nbformat": 4,
 "nbformat_minor": 2
}
