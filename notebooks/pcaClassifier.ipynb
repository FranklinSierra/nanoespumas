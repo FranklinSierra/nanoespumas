{
 "cells": [
  {
   "cell_type": "code",
   "execution_count": null,
   "metadata": {},
   "outputs": [],
   "source": [
    "import os\n",
    "os.environ[\"CUDA_DEVICE_ORDER\"] = \"PCI_BUS_ID\";\n",
    "os.environ[\"CUDA_VISIBLE_DEVICES\"] = \"0\"\n",
    "os.environ['TF_ENABLE_ONEDNN_OPTS'] = '0'"
   ]
  },
  {
   "cell_type": "markdown",
   "metadata": {},
   "source": [
    "# Import useful libraries"
   ]
  },
  {
   "cell_type": "code",
   "execution_count": null,
   "metadata": {},
   "outputs": [],
   "source": [
    "import tensorflow as tf\n",
    "from tensorflow.keras.models import Model\n",
    "from sklearn.model_selection import train_test_split\n",
    "import pandas as pd\n",
    "import numpy as np"
   ]
  },
  {
   "cell_type": "markdown",
   "metadata": {},
   "source": [
    "# <font color='red'>**Loading trained networks**</font>"
   ]
  },
  {
   "cell_type": "code",
   "execution_count": null,
   "metadata": {},
   "outputs": [],
   "source": [
    "path_model = \"../models/clasification/Vgg16HumedaFinalV2.h5\"\n",
    "model = tf.keras.models.load_model(path_model, compile=False)\n",
    "model.summary()"
   ]
  },
  {
   "cell_type": "code",
   "execution_count": null,
   "metadata": {},
   "outputs": [],
   "source": [
    "l1 = model.get_layer(name='global_average_pooling2d')\n",
    "emb = Model(model.input, l1.output)\n",
    "emb.summary()"
   ]
  },
  {
   "cell_type": "markdown",
   "metadata": {},
   "source": [
    "# Getting the data"
   ]
  },
  {
   "cell_type": "code",
   "execution_count": null,
   "metadata": {},
   "outputs": [],
   "source": [
    "#loading the wet data\n",
    "group = \"Humeda\"\n",
    "\n",
    "if group == \"Humeda\":\n",
    "    df = pd.read_csv(\"../data/rgb/classification/augmented/Humeda.csv\")\n",
    "else:\n",
    "    df = pd.read_csv(\"../data/rgb/classification/augmented/Seca.csv\")\n",
    "    \n",
    "df.columns = ['path', 'label']\n",
    "\n",
    "#making the train and test splits\n",
    "train_df, test_df = train_test_split(df, test_size=0.2, random_state=14)\n",
    "\n",
    "print(train_df.groupby('label').count())\n",
    "print(test_df.groupby('label').count())"
   ]
  },
  {
   "cell_type": "code",
   "execution_count": null,
   "metadata": {},
   "outputs": [],
   "source": [
    "cuni1_df = test_df[test_df['label'] == 'CuNi1']\n",
    "cuni2_df = test_df[test_df['label'] == 'CuNi2']\n",
    "cuni3_df = test_df[test_df['label'] == 'CuNi3']\n",
    "\n",
    "cuni1_features, cuni2_features, cuni3_features = [], [], []\n",
    "\n",
    "#getting the features for Cuni1\n",
    "for i in range (len(cuni1_df)):\n",
    "    img = tf.keras.preprocessing.image.load_img(cuni1_df.iloc[i]['path'], target_size=(224, 224))\n",
    "    img_array = tf.keras.preprocessing.image.img_to_array(img)\n",
    "    img_array = tf.expand_dims(img_array, 0)  # Create batch axis\n",
    "    features = emb.predict(img_array)\n",
    "    cuni1_features.extend(features)\n",
    "\n",
    "#getting the features for Cuni2\n",
    "for i in range (len(cuni2_df)):\n",
    "    img = tf.keras.preprocessing.image.load_img(cuni2_df.iloc[i]['path'], target_size=(224, 224))\n",
    "    img_array = tf.keras.preprocessing.image.img_to_array(img)\n",
    "    img_array = tf.expand_dims(img_array, 0)  # Create batch axis\n",
    "    features = emb.predict(img_array)\n",
    "    cuni2_features.extend(features)\n",
    "\n",
    "#getting the features for Cuni3\n",
    "for i in range (len(cuni3_df)):\n",
    "    img = tf.keras.preprocessing.image.load_img(cuni3_df.iloc[i]['path'], target_size=(224, 224))\n",
    "    img_array = tf.keras.preprocessing.image.img_to_array(img)\n",
    "    img_array = tf.expand_dims(img_array, 0)  # Create batch axis\n",
    "    features = emb.predict(img_array)\n",
    "    cuni3_features.extend(features)\n",
    "\n",
    "#saving the features\n",
    "np.save(\"../features/\"+group+\"/CuNi1\", cuni1_features)\n",
    "np.save(\"../features/\"+group+\"/CuNi2\", cuni2_features)\n",
    "np.save(\"../features/\"+group+\"/CuNi3\", cuni3_features)\n"
   ]
  },
  {
   "cell_type": "code",
   "execution_count": null,
   "metadata": {},
   "outputs": [],
   "source": [
    "#loading the np files\n",
    "group = \"Humeda\"\n",
    "\n",
    "cuni1_features = np.load(\"../features/\"+group+\"/CuNi1.npy\")\n",
    "cuni2_features = np.load(\"../features/\"+group+\"/CuNi2.npy\")\n",
    "cuni3_features = np.load(\"../features/\"+group+\"/CuNi3.npy\")\n",
    "\n",
    "print(\"dimension features for wet set:\")\n",
    "print(cuni1_features.shape)\n",
    "print(cuni2_features.shape)\n",
    "print(cuni3_features.shape)"
   ]
  },
  {
   "cell_type": "code",
   "execution_count": null,
   "metadata": {},
   "outputs": [],
   "source": [
    "features_mix = np.concatenate((cuni1_features, cuni2_features, cuni3_features), axis=0)\n",
    "features_mix.shape"
   ]
  },
  {
   "cell_type": "markdown",
   "metadata": {},
   "source": [
    "# Features decomposition in eigenvalues and eigenvectors"
   ]
  },
  {
   "cell_type": "code",
   "execution_count": null,
   "metadata": {},
   "outputs": [],
   "source": [
    "mat_cov = np.cov(features_mix)\n",
    "mat_cov"
   ]
  },
  {
   "cell_type": "code",
   "execution_count": null,
   "metadata": {},
   "outputs": [],
   "source": [
    "eig_vals, eig_vectors = np.linalg.eig(mat_cov)\n",
    "print(\"Valores propios \\n%s\" %eig_vals)\n",
    "print(\"Vectores propios \\n%s\" %eig_vectors)"
   ]
  },
  {
   "cell_type": "code",
   "execution_count": null,
   "metadata": {},
   "outputs": [],
   "source": [
    "mat_corr = np.corrcoef(features_mix)\n",
    "mat_corr.shape"
   ]
  },
  {
   "cell_type": "code",
   "execution_count": null,
   "metadata": {},
   "outputs": [],
   "source": []
  }
 ],
 "metadata": {
  "kernelspec": {
   "display_name": "Python 3",
   "language": "python",
   "name": "python3"
  },
  "language_info": {
   "codemirror_mode": {
    "name": "ipython",
    "version": 3
   },
   "file_extension": ".py",
   "mimetype": "text/x-python",
   "name": "python",
   "nbconvert_exporter": "python",
   "pygments_lexer": "ipython3",
   "version": "3.8.10"
  },
  "orig_nbformat": 4
 },
 "nbformat": 4,
 "nbformat_minor": 2
}
