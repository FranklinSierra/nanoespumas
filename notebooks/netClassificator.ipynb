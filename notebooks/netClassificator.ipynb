{
 "cells": [
  {
   "cell_type": "markdown",
   "metadata": {},
   "source": [
    "# <font color='white'>**Libraries**</font>"
   ]
  },
  {
   "cell_type": "code",
   "execution_count": null,
   "metadata": {},
   "outputs": [],
   "source": [
    "import os\n",
    "os.environ[\"CUDA_DEVICE_ORDER\"] = \"PCI_BUS_ID\";\n",
    "os.environ[\"CUDA_VISIBLE_DEVICES\"] = \"0\""
   ]
  },
  {
   "cell_type": "code",
   "execution_count": null,
   "metadata": {
    "scrolled": true
   },
   "outputs": [],
   "source": [
    "import tensorflow as tf\n",
    "import sklearn\n",
    "import numpy as np\n",
    "import pandas as pd\n",
    "from sklearn.metrics import classification_report, confusion_matrix, multilabel_confusion_matrix, ConfusionMatrixDisplay \n",
    "from sklearn.preprocessing import StandardScaler\n",
    "from sklearn.model_selection import train_test_split\n",
    "from tensorflow.keras.layers import Dense, Activation, Flatten, Dropout, GlobalAveragePooling2D\n",
    "from tensorflow.keras.models import Sequential, Model\n",
    "from tensorflow.keras import regularizers\n",
    "import matplotlib.pyplot as plt\n",
    "from tensorflow.keras.models import load_model\n",
    "from tensorflow.keras.preprocessing.image import ImageDataGenerator\n",
    "from tensorflow.keras.utils import to_categorical\n",
    "from tensorflow.keras.callbacks import EarlyStopping\n",
    "from tensorflow.keras.optimizers import SGD, Adam, RMSprop\n",
    "from tensorflow.keras.preprocessing import image\n",
    "from tensorflow import keras\n",
    "import imageio\n",
    "from tensorflow.keras.preprocessing.image import load_img\n",
    "from tensorflow.keras.preprocessing.image import img_to_array\n",
    "AUTOTUNE = tf.data.AUTOTUNE\n",
    "from tqdm import tqdm\n",
    "from numpy import asarray\n",
    "import random\n",
    "from sklearn.metrics import roc_auc_score\n",
    "from sklearn import preprocessing\n",
    "from tensorflow import keras"
   ]
  },
  {
   "cell_type": "markdown",
   "metadata": {},
   "source": [
    "# <font color='red'>**Helper functions**</font>"
   ]
  },
  {
   "cell_type": "markdown",
   "metadata": {},
   "source": [
    "# <font color='red'>**Networks**</font>"
   ]
  },
  {
   "cell_type": "code",
   "execution_count": null,
   "metadata": {},
   "outputs": [],
   "source": [
    "def transfer_learning(arquitectura, base_model, IMG_HEIGHT, IMG_WIDTH, num_clases):\n",
    "    \"\"\"\n",
    "    Creates a new transfer learning model by adding custom layers on top of the given base model.\n",
    "\n",
    "    Parameters:\n",
    "    arquitectura (str): The architecture of the base model to be used. Can be 'ResNet18', 'Vgg16', or any other value.\n",
    "    base_model: The pre-trained base model to which custom layers will be added.\n",
    "    IMG_HEIGHT (int): The target height for the input images.\n",
    "    IMG_WIDTH (int): The target width for the input images.\n",
    "    num_clases (int): The number of output classes for the classification task.\n",
    "\n",
    "    Returns:\n",
    "    model (tensorflow.keras.models.Model): A new transfer learning model with custom layers on top of the base model.\n",
    "\n",
    "    Notes:\n",
    "    - The function allows transfer learning using different pre-trained base models like 'ResNet18', 'Vgg16', etc.\n",
    "    - The base model's lower layers are frozen to prevent further training and fine-tuning.\n",
    "    - The custom layers are added on top of the base model to adapt it for the specific classification task.\n",
    "    - The activation function for the last layer is set to 'softmax' for multi-class classification tasks.\n",
    "    \"\"\"\n",
    "    print(\"making transfer learning...\")\n",
    "\n",
    "    # Freeze the base_model lower layers\n",
    "    for layer in base_model.layers[:10]:\n",
    "        layer.trainable = False\n",
    "    for layer in base_model.layers[10:]:\n",
    "        layer.trainable = True\n",
    "\n",
    "    # Create a new model on top based on the specified architecture\n",
    "    if arquitectura == 'Vgg16':\n",
    "        inputs = tf.keras.layers.Input(shape=(IMG_HEIGHT, IMG_WIDTH, 3))\n",
    "        x = base_model(inputs)\n",
    "        x = GlobalAveragePooling2D()(x)\n",
    "        x = tf.keras.layers.Flatten(name='flatten')(x)\n",
    "        x = tf.keras.layers.Dense(1024, activation='relu', kernel_regularizer=regularizers.l2(0.01), name='fc1')(x)\n",
    "        x = tf.keras.layers.Dropout(0.5)(x)\n",
    "        x = tf.keras.layers.Dense(512, activation='relu', kernel_regularizer=regularizers.l2(0.01), name='fc2')(x)\n",
    "        predictions = tf.keras.layers.Dense(num_clases, activation='softmax', name='predictions')(x)\n",
    "        model = tf.keras.models.Model(inputs=inputs, outputs=predictions)\n",
    "    else:\n",
    "        inputs = tf.keras.layers.Input(shape=(IMG_HEIGHT, IMG_WIDTH, 3))\n",
    "        x = base_model(inputs)\n",
    "        x = GlobalAveragePooling2D()(x)\n",
    "        x = tf.keras.layers.Flatten(name='flatten')(x)\n",
    "        x = tf.keras.layers.Dense(1024, activation='relu', kernel_regularizer=regularizers.l2(0.01), name='fc1')(x)\n",
    "        x = tf.keras.layers.Dropout(0.5)(x)\n",
    "        x = tf.keras.layers.Dense(512, activation='relu', kernel_regularizer=regularizers.l2(0.01), name='fc2')(x)\n",
    "        predictions = Dense(num_clases, activation='softmax')(x)\n",
    "        model = Model(inputs=inputs, outputs=predictions)\n",
    "\n",
    "    return model\n"
   ]
  },
  {
   "cell_type": "code",
   "execution_count": null,
   "metadata": {},
   "outputs": [],
   "source": [
    "def make_model(arquitectura, HEIGHT, WIDTH):\n",
    "    \"\"\"\n",
    "    Creates a base model for transfer learning based on the specified architecture.\n",
    "\n",
    "    Parameters:\n",
    "    arquitectura (str): The architecture of the base model to be created. Can be 'MobileNet', 'Vgg16', or 'EfficientNetV2B0'.\n",
    "    HEIGHT (int): The target height for the input images.\n",
    "    WIDTH (int): The target width for the input images.\n",
    "\n",
    "    Returns:\n",
    "    base_model (tensorflow.keras.models.Model): A pre-trained base model suitable for transfer learning.\n",
    "\n",
    "    Notes:\n",
    "    - The function uses Keras applications to load pre-trained base models for transfer learning.\n",
    "    - The 'MobileNet', 'Vgg16', and 'EfficientNetV2B0' models are available for selection.\n",
    "    - The input shape for the base model is set to (HEIGHT, WIDTH, 3) to match the target image size and 3 color channels.\n",
    "    - The 'weights' parameter is set to 'imagenet' to use pre-trained weights on the ImageNet dataset.\n",
    "    - The 'include_top' parameter is set to False to exclude the top classification layers of the base model.\n",
    "    \"\"\"\n",
    "    print(\"loading : \", arquitectura)\n",
    "\n",
    "    # Create a base model for transfer learning based on the specified architecture\n",
    "    if arquitectura == 'MobileNet':\n",
    "        base_model = tf.keras.applications.MobileNet(weights='imagenet', include_top=False,\n",
    "                                                     input_shape=(HEIGHT, WIDTH, 3))\n",
    "    elif arquitectura == 'Vgg16':\n",
    "        base_model = tf.keras.applications.VGG16(weights='imagenet', include_top=False,\n",
    "                                                 input_shape=(HEIGHT, WIDTH, 3))\n",
    "    elif arquitectura == 'EfficientNetV2B0':\n",
    "        base_model = tf.keras.applications.EfficientNetV2B0(weights='imagenet', include_top=False,\n",
    "                                                            input_shape=(HEIGHT, WIDTH, 3))\n",
    "\n",
    "    return base_model\n"
   ]
  },
  {
   "cell_type": "markdown",
   "metadata": {},
   "source": [
    "## Data generator"
   ]
  },
  {
   "cell_type": "code",
   "execution_count": null,
   "metadata": {},
   "outputs": [],
   "source": [
    "def make_generator(df_train, df_val, HEIGHT, WIDTH, tipo, batch_size):\n",
    "    \"\"\"\n",
    "    Creates image generators for training and validation data from the given DataFrames.\n",
    "\n",
    "    Parameters:\n",
    "    df_train (pandas.DataFrame): DataFrame containing the training data with two columns, 'path' and 'label'.\n",
    "    df_val (pandas.DataFrame): DataFrame containing the validation data with two columns, 'path' and 'label'.\n",
    "    HEIGHT (int): The target height for the input images.\n",
    "    WIDTH (int): The target width for the input images.\n",
    "    tipo (str): The class mode for the generator. Can be 'binary' for binary classification or 'categorical' for multi-class.\n",
    "    batch_size (int): The batch size for the data generator.\n",
    "\n",
    "    Returns:\n",
    "    train_generator (tensorflow.python.keras.preprocessing.image.DataFrameIterator): A data generator for training data.\n",
    "    valid_generator (tensorflow.python.keras.preprocessing.image.DataFrameIterator): A data generator for validation data.\n",
    "\n",
    "    Notes:\n",
    "    - The function creates two image data generators, one for training data and one for validation data.\n",
    "    - The training data generator reads data from the DataFrame 'df_train', and the validation data generator reads\n",
    "      data from the DataFrame 'df_val'.\n",
    "    - The 'tipo' parameter determines the class mode for the generator ('binary' for binary classification or\n",
    "      'categorical' for multi-class classification).\n",
    "    - The 'target_size' parameter is set to (HEIGHT, WIDTH) to resize the images to the specified dimensions.\n",
    "    - The 'seed' parameter is set to 42 for reproducibility of random transformations applied to the images.\n",
    "    - The 'shuffle' parameter is set to True to shuffle the data during each epoch.\n",
    "    \"\"\"\n",
    "    # Generator for training data\n",
    "    datagen = ImageDataGenerator(rescale=1. / 255)#, rotation_range= 20, brightness_range = [0.2, 0.8], zoom_range=0.2, horizontal_flip=True,\n",
    "                                 #vertical_flip=True)\n",
    "\n",
    "    train_generator = datagen.flow_from_dataframe(directory=None, \n",
    "                                                  dataframe=df_train,\n",
    "                                                  x_col='path', \n",
    "                                                  y_col='label', \n",
    "                                                  target_size=(HEIGHT, WIDTH),\n",
    "                                                  class_mode=tipo, \n",
    "                                                  batch_size=batch_size,\n",
    "                                                  seed=42,\n",
    "                                                  shuffle=True)\n",
    "\n",
    "    # Generator for validation data\n",
    "    val_datagen = ImageDataGenerator(rescale=1. / 255)\n",
    "\n",
    "    valid_generator = val_datagen.flow_from_dataframe(directory=None,\n",
    "                                                      dataframe=df_val,\n",
    "                                                      x_col='path',\n",
    "                                                      y_col='label',\n",
    "                                                      batch_size=batch_size,\n",
    "                                                      seed=42,\n",
    "                                                      shuffle=True,\n",
    "                                                      class_mode=tipo,\n",
    "                                                      target_size=(HEIGHT, WIDTH))\n",
    "\n",
    "    return train_generator, valid_generator\n"
   ]
  },
  {
   "cell_type": "markdown",
   "metadata": {},
   "source": [
    "## Train"
   ]
  },
  {
   "cell_type": "code",
   "execution_count": null,
   "metadata": {},
   "outputs": [],
   "source": [
    "#this cell is for wide training using different nets\n",
    "def train(arquitectura, group, HEIGHT, WIDTH, df_train, df_val, lr, train_epochs, batch_size, loss, \n",
    "          tipo, clases):\n",
    "    \n",
    "    base_model = make_model(arquitectura, HEIGHT, WIDTH)\n",
    "    # making trasfer learning\n",
    "    finetune_model = transfer_learning(arquitectura, base_model, HEIGHT, WIDTH, clases)\n",
    "    # creating generadores\n",
    "    print(\"getting generators...\")\n",
    "    train_generator, valid_generator = make_generator(df_train, df_val, HEIGHT,WIDTH, tipo, batch_size)\n",
    "\n",
    "    # training steps over each dataset\n",
    "    NUM_EPOCHS = train_epochs\n",
    "    num_train_images = len(df_train)#*augmenting_factor\n",
    "    STEP_SIZE_TRAIN=num_train_images//train_generator.batch_size\n",
    "    STEP_SIZE_VALID=valid_generator.n//valid_generator.batch_size\n",
    "    \n",
    "    print(\"amount of epocas: \", NUM_EPOCHS)\n",
    "    print(\"amount of images to train: \", num_train_images)\n",
    "    print(\"amount of images to valid: \", valid_generator.n)\n",
    "\n",
    "    \n",
    "    save_path = \"../models/clasification/\" + arquitectura + group + \".h5\"\n",
    "        \n",
    "    callback_list = [tf.keras.callbacks.EarlyStopping(patience=4, monitor='val_acc', mode='max'),                                     \n",
    "                    tf.keras.callbacks.ModelCheckpoint(filepath=save_path,\n",
    "                                                      monitor = 'val_acc',\n",
    "                                                      verbose=1,\n",
    "                                                      save_best_only=True,\n",
    "                                                      mode = 'max',\n",
    "                                                      save_weights_only=False,\n",
    "                                                      save_freq='epoch')]\n",
    "    #------new from here\n",
    "    # Define the L2 regularization loss\n",
    "    l2_loss = tf.add_n(finetune_model.losses)\n",
    "    #------ until here\n",
    "    \n",
    "    solver = Adam(learning_rate=lr)\n",
    "    print(\"class weights\")\n",
    "    total = df_train.shape[0]\n",
    "    weights = (total/df_train.groupby('label').count().values)/3\n",
    "    class_weight = {0:weights[0][0], 1:weights[1][0], 2:weights[2][0]}\n",
    "    print(class_weight)\n",
    "    \n",
    "    print(\"compiling model\")\n",
    "    finetune_model.compile(solver, loss=loss, metrics=[tf.keras.metrics.CategoricalAccuracy(name='acc')])\n",
    "    \n",
    "    print(\"model training...\")\n",
    "    history = finetune_model.fit(train_generator,\n",
    "                                 steps_per_epoch = STEP_SIZE_TRAIN,\n",
    "                                 epochs=NUM_EPOCHS,\n",
    "                                 validation_data=valid_generator,\n",
    "                                 validation_steps=STEP_SIZE_VALID,\n",
    "                                 class_weight=class_weight,\n",
    "                                 callbacks=callback_list)\n",
    "    \n",
    "    return finetune_model, history, train_generator, valid_generator "
   ]
  },
  {
   "cell_type": "code",
   "execution_count": null,
   "metadata": {},
   "outputs": [],
   "source": [
    "#group = \"dry\"\n",
    "#train_df, val_df, test_df = load_dataframes(group)\n",
    "#train_df.groupby('label').count()"
   ]
  },
  {
   "cell_type": "code",
   "execution_count": null,
   "metadata": {},
   "outputs": [],
   "source": [
    "#loading the wet data\n",
    "group = \"Seca\"\n",
    "\n",
    "if group == \"Humeda\":\n",
    "    df = pd.read_csv(\"../data/rgb/classification/augmented/Humeda.csv\")\n",
    "else:\n",
    "    print(\"leyendo info de secas\")\n",
    "    df = pd.read_csv(\"../data/rgb/classification/augmented/Seca.csv\")\n",
    "    \n",
    "df.columns = ['path', 'label']\n",
    "\n",
    "#making the train and test splits\n",
    "train_df, test_df = train_test_split(df, test_size=0.2, random_state=14)\n",
    "\n",
    "print(train_df.groupby('label').count())\n",
    "print(test_df.groupby('label').count())\n"
   ]
  },
  {
   "cell_type": "code",
   "execution_count": null,
   "metadata": {},
   "outputs": [],
   "source": [
    "#print(\"lengh of train: {}, lengh of valid: {}, lengh of test: {}\".format(len(train_df), len(val_df), len(test_df)))"
   ]
  },
  {
   "cell_type": "code",
   "execution_count": null,
   "metadata": {},
   "outputs": [],
   "source": [
    "#current_train_df = pd.concat([train_df, val_df], axis=0)\n",
    "#len(current_train_df)\n",
    "#current_train_df.groupby('label').count()"
   ]
  },
  {
   "cell_type": "code",
   "execution_count": null,
   "metadata": {},
   "outputs": [],
   "source": [
    "#this cell is for a general classification knowledge\n",
    "nets = ['Vgg16', 'MobileNet', 'EfficientNetV2B0']\n",
    "\n",
    "num_clases=3\n",
    "\n",
    "HEIGHT, WIDTH = 224, 224\n",
    "activacion_final = 'softmax'\n",
    "x_col_name = 'path'\n",
    "y_col_name = 'label'\n",
    "tipo = 'categorical'\n",
    "batch_size = 16\n",
    "train_epochs = 30\n",
    "lr=0.00001\n",
    "loss='categorical_crossentropy' \n",
    "\n",
    "for net in nets:\n",
    "    arquitectura = net \n",
    "    np.random.seed(42)\n",
    "    tf.random.set_seed(42)\n",
    "    tf.keras.backend.clear_session()\n",
    "\n",
    "    finetune_model, history, train_generator, valid_generator = train(arquitectura, group, HEIGHT, WIDTH, \n",
    "                                                                      train_df, test_df, lr, train_epochs,\n",
    "                                                                      batch_size, loss, tipo, num_clases)"
   ]
  },
  {
   "cell_type": "markdown",
   "metadata": {},
   "source": [
    "## Testing\n",
    "### Making generator"
   ]
  },
  {
   "cell_type": "code",
   "execution_count": null,
   "metadata": {},
   "outputs": [],
   "source": [
    "def make_generator(df_test, HEIGHT, WIDTH, tipo, batch_size):\n",
    "    \n",
    "    test_datagen=ImageDataGenerator()\n",
    "    \n",
    "    test_generator=test_datagen.flow_from_dataframe(directory=None,\n",
    "                                                    dataframe=df_test,\n",
    "                                                    x_col='path',\n",
    "                                                    y_col='label',\n",
    "                                                    batch_size=batch_size,\n",
    "                                                    seed=42,\n",
    "                                                    shuffle=False,\n",
    "                                                    class_mode=tipo,\n",
    "                                                    target_size=(HEIGHT,WIDTH))\n",
    "\n",
    "    return test_generator"
   ]
  },
  {
   "cell_type": "code",
   "execution_count": null,
   "metadata": {},
   "outputs": [],
   "source": [
    "HEIGHT, WIDTH = 224, 224\n",
    "tipo = 'categorical'\n",
    "batch_size = 16"
   ]
  },
  {
   "cell_type": "code",
   "execution_count": null,
   "metadata": {},
   "outputs": [],
   "source": [
    "test_gen = make_generator(test_df, HEIGHT, WIDTH, tipo, batch_size)"
   ]
  },
  {
   "cell_type": "code",
   "execution_count": null,
   "metadata": {},
   "outputs": [],
   "source": [
    "#loading the \n",
    "name = \"EfficientNetV2B0\"+ \"Seca\"\n",
    "trained_model_path = '../models/clasification/' + name + '.h5'\n",
    "model = keras.models.load_model(trained_model_path, compile=True)"
   ]
  },
  {
   "cell_type": "code",
   "execution_count": null,
   "metadata": {},
   "outputs": [],
   "source": [
    "#Confution Matrix and Classification Report\n",
    "test_gen.reset()\n",
    "logits = model.predict(test_gen, test_df.shape[0] // batch_size+1)\n",
    "y_pred_class = np.argmax(logits, axis=1)\n",
    "#predicted_class_probab=np.max(logits,axis=1)\n",
    "\n",
    "target_names = ['CuNi1', 'CuNi2', 'CuNi3']   \n",
    "  \n",
    "print('Confusion Matrix')\n",
    "print(confusion_matrix(test_gen.classes, y_pred_class))\n",
    "print('Classification Report')\n",
    "print(classification_report(test_gen.classes, y_pred_class, target_names=target_names))"
   ]
  },
  {
   "cell_type": "code",
   "execution_count": null,
   "metadata": {},
   "outputs": [],
   "source": [
    "from sklearn.metrics import confusion_matrix, ConfusionMatrixDisplay\n",
    "\n",
    "target_names = ['CuNi1', 'CuNi2', 'CuNi3']   \n",
    "cm = confusion_matrix(test_gen.classes, y_pred_class, normalize='true')\n",
    "disp = ConfusionMatrixDisplay(confusion_matrix=cm, display_labels=target_names)\n",
    "disp = disp.plot(include_values=True, cmap=plt.cm.Blues, xticks_rotation='horizontal', values_format='.2f')"
   ]
  },
  {
   "cell_type": "code",
   "execution_count": null,
   "metadata": {},
   "outputs": [],
   "source": [
    "AUC = tf.keras.metrics.AUC()\n",
    "AUC.update_state(test_gen.classes, y_pred_class)\n",
    "AUC.result()"
   ]
  },
  {
   "cell_type": "code",
   "execution_count": null,
   "metadata": {},
   "outputs": [],
   "source": []
  }
 ],
 "metadata": {
  "kernelspec": {
   "display_name": "Python 3 (ipykernel)",
   "language": "python",
   "name": "python3"
  },
  "language_info": {
   "codemirror_mode": {
    "name": "ipython",
    "version": 3
   },
   "file_extension": ".py",
   "mimetype": "text/x-python",
   "name": "python",
   "nbconvert_exporter": "python",
   "pygments_lexer": "ipython3",
   "version": "3.8.10"
  }
 },
 "nbformat": 4,
 "nbformat_minor": 4
}
