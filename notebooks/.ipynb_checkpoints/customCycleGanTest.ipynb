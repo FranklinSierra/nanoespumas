{
 "cells": [
  {
   "cell_type": "markdown",
   "metadata": {},
   "source": [
    "# **Import libraries and stuff**"
   ]
  },
  {
   "cell_type": "code",
   "execution_count": 1,
   "metadata": {},
   "outputs": [
    {
     "name": "stderr",
     "output_type": "stream",
     "text": [
      "2023-08-15 15:13:12.789016: I tensorflow/core/util/port.cc:110] oneDNN custom operations are on. You may see slightly different numerical results due to floating-point round-off errors from different computation orders. To turn them off, set the environment variable `TF_ENABLE_ONEDNN_OPTS=0`.\n",
      "2023-08-15 15:13:12.814600: I tensorflow/core/platform/cpu_feature_guard.cc:182] This TensorFlow binary is optimized to use available CPU instructions in performance-critical operations.\n",
      "To enable the following instructions: AVX2 AVX_VNNI FMA, in other operations, rebuild TensorFlow with the appropriate compiler flags.\n"
     ]
    }
   ],
   "source": [
    "import tensorflow as tf\n",
    "from tensorflow.keras.layers import Input, Conv2D, Conv2DTranspose, BatchNormalization, Activation\n",
    "from tensorflow.keras.models import Model"
   ]
  },
  {
   "cell_type": "markdown",
   "metadata": {},
   "source": [
    "## Utils functions"
   ]
  },
  {
   "cell_type": "code",
   "execution_count": 2,
   "metadata": {},
   "outputs": [],
   "source": [
    "def build_generator(input_shape):\n",
    "    \n",
    "    inputs = Input(shape=input_shape)\n",
    "    \n",
    "    # Encoder\n",
    "    #each block is conv2d->batchnorm->relu\n",
    "    enc_conv1 = Conv2D(64, kernel_size=7, strides=1, padding='same')(inputs)\n",
    "    enc_norm1 = BatchNormalization()(enc_conv1)\n",
    "    enc_relu1 = Activation('relu')(enc_norm1)\n",
    "    \n",
    "    # ... Add more convolutional layers for the encoder ...\n",
    "    \n",
    "    # Decoder\n",
    "    dec_conv1 = Conv2DTranspose(64, kernel_size=7, strides=1, padding='same')(enc_relu1)\n",
    "    dec_norm1 = BatchNormalization()(dec_conv1)\n",
    "    dec_relu1 = Activation('relu')(dec_norm1)\n",
    "    \n",
    "    # ... Add more transpose convolutional layers for the decoder ...\n",
    "    \n",
    "    # Output layer\n",
    "    outputs = Conv2D(3, kernel_size=7, strides=1, padding='same', activation='tanh')(dec_relu1)\n",
    "    \n",
    "    return Model(inputs, outputs)"
   ]
  },
  {
   "cell_type": "code",
   "execution_count": null,
   "metadata": {},
   "outputs": [],
   "source": [
    "def build_discriminator(input_shape):\n",
    "    \n",
    "    inputs = Input(shape=input_shape)\n",
    "    \n",
    "    # ... Build the discriminator architecture ...\n",
    "    \n",
    "    outputs = Conv2D(1, kernel_size=4, strides=1, padding='same', activation='sigmoid')(inputs)\n",
    "    \n",
    "    return Model(inputs, outputs)"
   ]
  },
  {
   "cell_type": "code",
   "execution_count": 3,
   "metadata": {},
   "outputs": [],
   "source": [
    "def build_cycle_gan(input_shape):\n",
    "    # Build the generators\n",
    "    generator_A_to_B = build_generator(input_shape)\n",
    "    generator_B_to_A = build_generator(input_shape)\n",
    "    \n",
    "    # Build the discriminators\n",
    "    discriminator_A = build_discriminator(input_shape)\n",
    "    discriminator_B = build_discriminator(input_shape)\n",
    "    \n",
    "    # Loss function\n",
    "    mae_loss = MeanAbsoluteError()\n",
    "    \n",
    "    # Compile the discriminators\n",
    "    discriminator_A.compile(optimizer=Adam(learning_rate=0.0002, beta_1=0.5), loss='binary_crossentropy')\n",
    "    discriminator_B.compile(optimizer=Adam(learning_rate=0.0002, beta_1=0.5), loss='binary_crossentropy')\n",
    "    \n",
    "    # Discriminator models are not trained during cycleGAN training\n",
    "    discriminator_A.trainable = False\n",
    "    discriminator_B.trainable = False\n",
    "    \n",
    "    # Inputs for CycleGAN\n",
    "    real_A = Input(shape=input_shape)\n",
    "    real_B = Input(shape=input_shape)\n",
    "    \n",
    "    # Generators\n",
    "    fake_B = generator_A_to_B(real_A)\n",
    "    fake_A = generator_B_to_A(real_B)\n",
    "    \n",
    "    # Reconstructed images\n",
    "    reconstructed_A = generator_B_to_A(fake_B)\n",
    "    reconstructed_B = generator_A_to_B(fake_A)\n",
    "    \n",
    "    # Identity mapping\n",
    "    id_A = generator_B_to_A(real_A)\n",
    "    id_B = generator_A_to_B(real_B)\n",
    "    \n",
    "    # Adversarial loss\n",
    "    valid = tf.ones_like(discriminator_A(fake_A))\n",
    "    fake = tf.zeros_like(discriminator_A(real_A))\n",
    "    \n",
    "    adversarial_loss = mae_loss(valid, discriminator_A(fake_A)) + mae_loss(fake, discriminator_A(real_A))\n",
    "    \n",
    "    # Cycle consistency loss\n",
    "    cycle_loss = mae_loss(real_A, reconstructed_A) + mae_loss(real_B, reconstructed_B)\n",
    "    \n",
    "    # Identity loss\n",
    "    id_loss = mae_loss(real_A, id_A) + mae_loss(real_B, id_B)\n",
    "    \n",
    "    # Total generator loss\n",
    "    total_gen_loss = adversarial_loss + (10 * cycle_loss) + (5 * id_loss)\n",
    "    \n",
    "    cycle_gan_model = Model(inputs=[real_A, real_B], outputs=[fake_A, fake_B, reconstructed_A, reconstructed_B])\n",
    "    cycle_gan_model.add_loss(total_gen_loss)\n",
    "    \n",
    "    cycle_gan_model.compile(optimizer=Adam(learning_rate=0.0002, beta_1=0.5))\n",
    "    \n",
    "    return cycle_gan_model"
   ]
  },
  {
   "cell_type": "code",
   "execution_count": null,
   "metadata": {},
   "outputs": [],
   "source": [
    "# Define the input shape (e.g., 256x256 with 3 channels for RGB images)\n",
    "input_shape = (256, 256, 3)\n",
    "\n",
    "# Build the CycleGAN model\n",
    "cycle_gan = build_cycle_gan(input_shape)\n",
    "\n",
    "# Display the summary of the model\n",
    "cycle_gan.summary()"
   ]
  }
 ],
 "metadata": {
  "kernelspec": {
   "display_name": "Python 3",
   "language": "python",
   "name": "python3"
  },
  "language_info": {
   "codemirror_mode": {
    "name": "ipython",
    "version": 3
   },
   "file_extension": ".py",
   "mimetype": "text/x-python",
   "name": "python",
   "nbconvert_exporter": "python",
   "pygments_lexer": "ipython3",
   "version": "3.8.10"
  },
  "orig_nbformat": 4
 },
 "nbformat": 4,
 "nbformat_minor": 2
}
